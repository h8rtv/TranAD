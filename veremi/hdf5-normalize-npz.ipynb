{
 "cells": [
  {
   "cell_type": "code",
   "execution_count": 1,
   "id": "1a0f5dcf-7710-4a8c-b5d6-54535e034353",
   "metadata": {
    "tags": []
   },
   "outputs": [],
   "source": [
    "import h5py\n",
    "import numpy as np\n",
    "import os\n",
    "import pandas as pd\n",
    "\n",
    "folder = 'out_veremi'\n"
   ]
  },
  {
   "cell_type": "code",
   "execution_count": 2,
   "id": "1a9fd7fa-080d-4834-aaff-70e848a2a60d",
   "metadata": {
    "tags": []
   },
   "outputs": [],
   "source": [
    "f = h5py.File('out_veremi/veremi.h5')"
   ]
  },
  {
   "cell_type": "code",
   "execution_count": null,
   "id": "929590d3-5e85-4c02-b35a-04e90a85fa42",
   "metadata": {
    "tags": []
   },
   "outputs": [],
   "source": [
    "all_seqs = np.concatenate((f['train_full_genuine'], f['test']), axis=1)\n",
    "min_a = np.min(all_seqs, axis=(0, 1))\n",
    "max_a = np.max(all_seqs, axis=(0, 1))\n",
    "del all_seqs\n",
    "min_a, max_a"
   ]
  },
  {
   "cell_type": "code",
   "execution_count": 7,
   "id": "6e90a38b-636a-45ca-9587-53253ee19b99",
   "metadata": {
    "tags": []
   },
   "outputs": [
    {
     "ename": "NameError",
     "evalue": "name 'min_a' is not defined",
     "output_type": "error",
     "traceback": [
      "\u001b[0;31m---------------------------------------------------------------------------\u001b[0m",
      "\u001b[0;31mNameError\u001b[0m                                 Traceback (most recent call last)",
      "Cell \u001b[0;32mIn[7], line 4\u001b[0m\n\u001b[1;32m      1\u001b[0m train \u001b[38;5;241m=\u001b[39m f[\u001b[38;5;124m'\u001b[39m\u001b[38;5;124mtrain_full_genuine\u001b[39m\u001b[38;5;124m'\u001b[39m][:]\n\u001b[1;32m      2\u001b[0m test \u001b[38;5;241m=\u001b[39m f[\u001b[38;5;124m'\u001b[39m\u001b[38;5;124mtest\u001b[39m\u001b[38;5;124m'\u001b[39m][:]\n\u001b[0;32m----> 4\u001b[0m train \u001b[38;5;241m=\u001b[39m normalize3(train, \u001b[43mmin_a\u001b[49m, max_a)\n\u001b[1;32m      5\u001b[0m test \u001b[38;5;241m=\u001b[39m normalize3(test, min_a, max_a)\n\u001b[1;32m      7\u001b[0m labels \u001b[38;5;241m=\u001b[39m f[\u001b[38;5;124m'\u001b[39m\u001b[38;5;124mtest_labels\u001b[39m\u001b[38;5;124m'\u001b[39m][:]\n",
      "\u001b[0;31mNameError\u001b[0m: name 'min_a' is not defined"
     ]
    }
   ],
   "source": [
    "train = f['train_full_genuine'][:]\n",
    "test = f['test'][:]\n",
    "\n",
    "train = normalize3(train, min_a, max_a)\n",
    "test = normalize3(test, min_a, max_a)\n",
    "\n",
    "labels = f['test_labels'][:]\n",
    "\n",
    "np.save(os.path.join(folder, 'train.npy'), train)\n",
    "np.save(os.path.join(folder, 'test.npy'), test)\n",
    "np.save(os.path.join(folder, 'labels.npy'), labels)"
   ]
  },
  {
   "cell_type": "code",
   "execution_count": 9,
   "id": "d68b258e-b83f-4fc9-a679-bd579f59d3a5",
   "metadata": {
    "tags": []
   },
   "outputs": [],
   "source": [
    "labels = f['test_labels'][:]"
   ]
  },
  {
   "cell_type": "code",
   "execution_count": 16,
   "id": "b704baae-8078-49ef-aab7-b2fd3abde2fc",
   "metadata": {
    "tags": []
   },
   "outputs": [
    {
     "data": {
      "text/plain": [
       "array([356.,  16.])"
      ]
     },
     "execution_count": 16,
     "metadata": {},
     "output_type": "execute_result"
    }
   ],
   "source": [
    "labels[356]"
   ]
  }
 ],
 "metadata": {
  "kernelspec": {
   "display_name": "Python 3 (ipykernel)",
   "language": "python",
   "name": "python3"
  },
  "language_info": {
   "codemirror_mode": {
    "name": "ipython",
    "version": 3
   },
   "file_extension": ".py",
   "mimetype": "text/x-python",
   "name": "python",
   "nbconvert_exporter": "python",
   "pygments_lexer": "ipython3",
   "version": "3.10.10"
  }
 },
 "nbformat": 4,
 "nbformat_minor": 5
}
