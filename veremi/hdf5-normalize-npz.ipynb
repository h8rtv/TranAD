{
 "cells": [
  {
   "cell_type": "code",
   "execution_count": 1,
   "id": "1a0f5dcf-7710-4a8c-b5d6-54535e034353",
   "metadata": {
    "tags": []
   },
   "outputs": [],
   "source": [
    "import h5py\n",
    "import numpy as np\n",
    "import os\n",
    "import pandas as pd\n",
    "\n",
    "folder = 'out_veremi'\n"
   ]
  },
  {
   "cell_type": "code",
   "execution_count": 2,
   "id": "1a9fd7fa-080d-4834-aaff-70e848a2a60d",
   "metadata": {
    "tags": []
   },
   "outputs": [],
   "source": [
    "f = h5py.File('out_veremi/veremi.h5')"
   ]
  },
  {
   "cell_type": "code",
   "execution_count": 3,
   "id": "412db3cf-b353-44e3-84aa-8f624e785843",
   "metadata": {
    "tags": []
   },
   "outputs": [
    {
     "data": {
      "text/plain": [
       "array([[4.4484350e-01, 5.7117730e-01, 4.2349517e-01, 3.5762107e-01,\n",
       "        5.2072227e-01, 2.1657602e-01, 5.3579617e-01, 1.2848630e-03,\n",
       "        9.3247160e-02, 6.6665351e-01, 5.0476211e-01, 4.2000040e-01,\n",
       "        5.2202994e-01, 1.9790071e-01, 5.3305322e-01, 1.0954191e-03,\n",
       "        5.0251228e-03],\n",
       "       [4.4484350e-01, 5.7117730e-01, 4.2349517e-01, 3.5762107e-01,\n",
       "        5.2072227e-01, 2.1657602e-01, 5.3579617e-01, 1.2848630e-03,\n",
       "        8.6600371e-02, 7.5728804e-01, 5.0616562e-01, 4.0085158e-01,\n",
       "        5.2033687e-01, 2.2070657e-01, 5.3398776e-01, 1.1582690e-03,\n",
       "        5.0251228e-03],\n",
       "       [4.4484350e-01, 5.7117730e-01, 4.2349517e-01, 3.5762107e-01,\n",
       "        5.2072227e-01, 2.1657602e-01, 5.3579617e-01, 1.2848630e-03,\n",
       "        1.2261465e-01, 4.5476121e-01, 5.5184263e-01, 1.2917897e-01,\n",
       "        4.9985027e-01, 4.9831259e-01, 5.5837083e-01, 3.4219404e-03,\n",
       "        5.0251228e-03],\n",
       "       [4.4484350e-01, 5.7117730e-01, 4.2349517e-01, 3.5762107e-01,\n",
       "        5.2072227e-01, 2.1657602e-01, 5.3579617e-01, 1.2848630e-03,\n",
       "        7.3419966e-02, 6.4693445e-01, 4.9867913e-01, 5.0305939e-01,\n",
       "        4.9965727e-01, 4.9970046e-01, 9.9934554e-01, 5.2455425e-01,\n",
       "        5.0251228e-03],\n",
       "       [4.4484350e-01, 5.7117730e-01, 4.2349517e-01, 3.5762107e-01,\n",
       "        5.2072227e-01, 2.1657602e-01, 5.3579617e-01, 1.2848630e-03,\n",
       "        1.0463701e-01, 6.4743090e-01, 4.9867564e-01, 5.0305587e-01,\n",
       "        4.9975464e-01, 4.9979785e-01, 4.2969824e-04, 4.7925100e-01,\n",
       "        5.0251228e-03],\n",
       "       [4.4484350e-01, 5.7117730e-01, 4.2349517e-01, 3.5762107e-01,\n",
       "        5.2072227e-01, 2.1657602e-01, 5.3579617e-01, 1.2848630e-03,\n",
       "        1.0012187e-01, 6.4690006e-01, 4.9871659e-01, 5.0309730e-01,\n",
       "        4.9977741e-01, 4.9982062e-01, 5.7736138e-04, 5.2399600e-01,\n",
       "        5.0251228e-03],\n",
       "       [4.4484350e-01, 5.7117730e-01, 4.2349517e-01, 3.5762107e-01,\n",
       "        5.2072227e-01, 2.1657602e-01, 5.3579617e-01, 1.2848630e-03,\n",
       "        7.8082234e-02, 6.4720279e-01, 4.9868137e-01, 5.0306165e-01,\n",
       "        4.9965146e-01, 4.9969465e-01, 9.9994344e-01, 5.0254995e-01,\n",
       "        5.0251228e-03],\n",
       "       [4.4489515e-01, 5.7047117e-01, 4.2600149e-01, 3.2289541e-01,\n",
       "        5.1848763e-01, 2.4669755e-01, 5.3579617e-01, 1.2848630e-03,\n",
       "        9.3593039e-02, 6.6336197e-01, 5.0964731e-01, 3.5336247e-01,\n",
       "        5.2410030e-01, 1.7001274e-01, 5.3305322e-01, 1.0954191e-03,\n",
       "        5.0251228e-03],\n",
       "       [4.4489515e-01, 5.7047117e-01, 4.2600149e-01, 3.2289541e-01,\n",
       "        5.1848763e-01, 2.4669755e-01, 5.3579617e-01, 1.2848630e-03,\n",
       "        8.1179649e-02, 8.2290918e-01, 5.0383943e-01, 4.4729757e-01,\n",
       "        5.1391649e-01, 3.4748596e-01, 5.4662699e-01, 2.1812720e-03,\n",
       "        5.0251228e-03],\n",
       "       [4.4489515e-01, 5.7047117e-01, 4.2600149e-01, 3.2289541e-01,\n",
       "        5.1848763e-01, 2.4669755e-01, 5.3579617e-01, 1.2848630e-03,\n",
       "        8.9352913e-02, 7.2046465e-01, 5.1076752e-01, 3.3809459e-01,\n",
       "        5.2141005e-01, 2.0629790e-01, 5.3529048e-01, 1.2488039e-03,\n",
       "        5.0251228e-03]], dtype=float32)"
      ]
     },
     "execution_count": 3,
     "metadata": {},
     "output_type": "execute_result"
    }
   ],
   "source": [
    "f['train_full_genuine'][:, 10]"
   ]
  },
  {
   "cell_type": "code",
   "execution_count": null,
   "id": "fd5faa19-542f-4249-ba5a-1bd038c6ddb2",
   "metadata": {
    "tags": []
   },
   "outputs": [],
   "source": [
    "np.random.seed(seed=42)\n",
    "print(f['train_full_genuine'].shape[1])\n",
    "seqs = np.random.randint(f['train_full_genuine'].shape[1], size=(10,))\n",
    "seqs.sort()\n",
    "\n",
    "print(seqs)\n",
    "f['train_full_genuine'][:, seqs, 16]"
   ]
  },
  {
   "cell_type": "code",
   "execution_count": null,
   "id": "929590d3-5e85-4c02-b35a-04e90a85fa42",
   "metadata": {
    "tags": []
   },
   "outputs": [],
   "source": [
    "all_seqs = np.concatenate((f['train_full_genuine'], f['test']), axis=1)\n",
    "min_a = np.min(all_seqs, axis=(0, 1))\n",
    "max_a = np.max(all_seqs, axis=(0, 1))\n",
    "del all_seqs\n",
    "min_a, max_a"
   ]
  },
  {
   "cell_type": "code",
   "execution_count": null,
   "id": "6e90a38b-636a-45ca-9587-53253ee19b99",
   "metadata": {
    "tags": []
   },
   "outputs": [],
   "source": [
    "train = f['train_full_genuine'][:]\n",
    "test = f['test'][:]\n",
    "\n",
    "train = normalize3(train, min_a, max_a)\n",
    "test = normalize3(test, min_a, max_a)\n",
    "\n",
    "labels = f['test_labels'][:]\n",
    "\n",
    "np.save(os.path.join(folder, 'train.npy'), train)\n",
    "np.save(os.path.join(folder, 'test.npy'), test)\n",
    "np.save(os.path.join(folder, 'labels.npy'), labels)"
   ]
  },
  {
   "cell_type": "code",
   "execution_count": null,
   "id": "d68b258e-b83f-4fc9-a679-bd579f59d3a5",
   "metadata": {
    "tags": []
   },
   "outputs": [],
   "source": [
    "labels = f['test_labels'][:]"
   ]
  },
  {
   "cell_type": "code",
   "execution_count": null,
   "id": "b704baae-8078-49ef-aab7-b2fd3abde2fc",
   "metadata": {
    "tags": []
   },
   "outputs": [],
   "source": [
    "labels[356]"
   ]
  }
 ],
 "metadata": {
  "kernelspec": {
   "display_name": "Python 3 (ipykernel)",
   "language": "python",
   "name": "python3"
  },
  "language_info": {
   "codemirror_mode": {
    "name": "ipython",
    "version": 3
   },
   "file_extension": ".py",
   "mimetype": "text/x-python",
   "name": "python",
   "nbconvert_exporter": "python",
   "pygments_lexer": "ipython3",
   "version": "3.10.10"
  }
 },
 "nbformat": 4,
 "nbformat_minor": 5
}
