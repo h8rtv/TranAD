{
 "cells": [
  {
   "cell_type": "code",
   "execution_count": 1,
   "id": "1a0f5dcf-7710-4a8c-b5d6-54535e034353",
   "metadata": {
    "tags": []
   },
   "outputs": [],
   "source": [
    "import h5py\n",
    "import numpy as np\n",
    "import os\n",
    "import pandas as pd\n",
    "import matplotlib.pyplot as plt\n",
    "\n",
    "folder = 'out_veremi'"
   ]
  },
  {
   "cell_type": "code",
   "execution_count": 29,
   "id": "f812d1a1-d7cc-45b7-9f45-6d66d268247d",
   "metadata": {
    "tags": []
   },
   "outputs": [],
   "source": [
    "V = pd.read_feather('out_veremi/test-mixall.feather')"
   ]
  },
  {
   "cell_type": "code",
   "execution_count": 38,
   "id": "88f16fe5-ab72-474a-a53c-1ec57e22c871",
   "metadata": {
    "tags": []
   },
   "outputs": [
    {
     "data": {
      "text/plain": [
       "171.0"
      ]
     },
     "execution_count": 38,
     "metadata": {},
     "output_type": "execute_result"
    }
   ],
   "source": [
    "V['delta_time'].max()"
   ]
  },
  {
   "cell_type": "code",
   "execution_count": 51,
   "id": "75f6eba0-3094-44c7-9d8a-b0e14824a1f6",
   "metadata": {
    "tags": []
   },
   "outputs": [
    {
     "data": {
      "text/html": [
       "<div>\n",
       "<style scoped>\n",
       "    .dataframe tbody tr th:only-of-type {\n",
       "        vertical-align: middle;\n",
       "    }\n",
       "\n",
       "    .dataframe tbody tr th {\n",
       "        vertical-align: top;\n",
       "    }\n",
       "\n",
       "    .dataframe thead th {\n",
       "        text-align: right;\n",
       "    }\n",
       "</style>\n",
       "<table border=\"1\" class=\"dataframe\">\n",
       "  <thead>\n",
       "    <tr style=\"text-align: right;\">\n",
       "      <th></th>\n",
       "      <th>dataset_id</th>\n",
       "      <th>message_id</th>\n",
       "      <th>bsm_rcv_time</th>\n",
       "      <th>receiver</th>\n",
       "      <th>sender</th>\n",
       "      <th>attack_type</th>\n",
       "      <th>snd_pos_x</th>\n",
       "      <th>snd_pos_y</th>\n",
       "      <th>snd_spd_x</th>\n",
       "      <th>snd_spd_y</th>\n",
       "      <th>...</th>\n",
       "      <th>rcv_pos_x</th>\n",
       "      <th>rcv_pos_y</th>\n",
       "      <th>rcv_spd_x</th>\n",
       "      <th>rcv_spd_y</th>\n",
       "      <th>rcv_acl_x</th>\n",
       "      <th>rcv_acl_y</th>\n",
       "      <th>rcv_hed_x</th>\n",
       "      <th>rcv_hed_y</th>\n",
       "      <th>delta_time</th>\n",
       "      <th>seq_len</th>\n",
       "    </tr>\n",
       "  </thead>\n",
       "  <tbody>\n",
       "    <tr>\n",
       "      <th>3285333</th>\n",
       "      <td>0.0</td>\n",
       "      <td>385852864.0</td>\n",
       "      <td>70614.578125</td>\n",
       "      <td>124971.0</td>\n",
       "      <td>124899.0</td>\n",
       "      <td>0.0</td>\n",
       "      <td>622.664856</td>\n",
       "      <td>349.405731</td>\n",
       "      <td>10.591725</td>\n",
       "      <td>3.619794</td>\n",
       "      <td>...</td>\n",
       "      <td>1014.896179</td>\n",
       "      <td>475.989258</td>\n",
       "      <td>-11.595036</td>\n",
       "      <td>-4.170302</td>\n",
       "      <td>-0.504738</td>\n",
       "      <td>-0.181465</td>\n",
       "      <td>-0.960219</td>\n",
       "      <td>-0.279247</td>\n",
       "      <td>167.0</td>\n",
       "      <td>2021</td>\n",
       "    </tr>\n",
       "    <tr>\n",
       "      <th>3285339</th>\n",
       "      <td>0.0</td>\n",
       "      <td>385870496.0</td>\n",
       "      <td>70615.578125</td>\n",
       "      <td>124875.0</td>\n",
       "      <td>124899.0</td>\n",
       "      <td>0.0</td>\n",
       "      <td>633.428345</td>\n",
       "      <td>353.023315</td>\n",
       "      <td>10.528963</td>\n",
       "      <td>3.598826</td>\n",
       "      <td>...</td>\n",
       "      <td>1021.180237</td>\n",
       "      <td>477.771057</td>\n",
       "      <td>-11.767840</td>\n",
       "      <td>-4.100206</td>\n",
       "      <td>0.093100</td>\n",
       "      <td>0.032458</td>\n",
       "      <td>-0.949199</td>\n",
       "      <td>-0.314677</td>\n",
       "      <td>160.0</td>\n",
       "      <td>2021</td>\n",
       "    </tr>\n",
       "    <tr>\n",
       "      <th>3285363</th>\n",
       "      <td>0.0</td>\n",
       "      <td>385907200.0</td>\n",
       "      <td>70618.578125</td>\n",
       "      <td>124953.0</td>\n",
       "      <td>124899.0</td>\n",
       "      <td>0.0</td>\n",
       "      <td>664.833618</td>\n",
       "      <td>363.782410</td>\n",
       "      <td>10.539500</td>\n",
       "      <td>3.604832</td>\n",
       "      <td>...</td>\n",
       "      <td>1053.083008</td>\n",
       "      <td>489.540924</td>\n",
       "      <td>-11.862871</td>\n",
       "      <td>-4.535195</td>\n",
       "      <td>-0.542164</td>\n",
       "      <td>-0.206994</td>\n",
       "      <td>-0.973420</td>\n",
       "      <td>-0.229025</td>\n",
       "      <td>160.0</td>\n",
       "      <td>2021</td>\n",
       "    </tr>\n",
       "    <tr>\n",
       "      <th>3285376</th>\n",
       "      <td>0.0</td>\n",
       "      <td>385931488.0</td>\n",
       "      <td>70620.578125</td>\n",
       "      <td>124803.0</td>\n",
       "      <td>124899.0</td>\n",
       "      <td>0.0</td>\n",
       "      <td>685.663696</td>\n",
       "      <td>371.063538</td>\n",
       "      <td>10.572788</td>\n",
       "      <td>3.691284</td>\n",
       "      <td>...</td>\n",
       "      <td>1068.590820</td>\n",
       "      <td>497.487396</td>\n",
       "      <td>-9.566414</td>\n",
       "      <td>-7.190610</td>\n",
       "      <td>0.040861</td>\n",
       "      <td>0.030878</td>\n",
       "      <td>-0.811376</td>\n",
       "      <td>-0.584524</td>\n",
       "      <td>171.0</td>\n",
       "      <td>2021</td>\n",
       "    </tr>\n",
       "    <tr>\n",
       "      <th>3285439</th>\n",
       "      <td>0.0</td>\n",
       "      <td>386029152.0</td>\n",
       "      <td>70628.578125</td>\n",
       "      <td>124881.0</td>\n",
       "      <td>124899.0</td>\n",
       "      <td>0.0</td>\n",
       "      <td>769.728699</td>\n",
       "      <td>400.387543</td>\n",
       "      <td>10.537741</td>\n",
       "      <td>3.678823</td>\n",
       "      <td>...</td>\n",
       "      <td>1084.429321</td>\n",
       "      <td>513.602173</td>\n",
       "      <td>3.100644</td>\n",
       "      <td>-11.130006</td>\n",
       "      <td>-1.206995</td>\n",
       "      <td>4.335574</td>\n",
       "      <td>0.169778</td>\n",
       "      <td>-0.985482</td>\n",
       "      <td>168.0</td>\n",
       "      <td>2021</td>\n",
       "    </tr>\n",
       "  </tbody>\n",
       "</table>\n",
       "<p>5 rows × 24 columns</p>\n",
       "</div>"
      ],
      "text/plain": [
       "         dataset_id   message_id  bsm_rcv_time  receiver    sender   \n",
       "3285333         0.0  385852864.0  70614.578125  124971.0  124899.0  \\\n",
       "3285339         0.0  385870496.0  70615.578125  124875.0  124899.0   \n",
       "3285363         0.0  385907200.0  70618.578125  124953.0  124899.0   \n",
       "3285376         0.0  385931488.0  70620.578125  124803.0  124899.0   \n",
       "3285439         0.0  386029152.0  70628.578125  124881.0  124899.0   \n",
       "\n",
       "         attack_type   snd_pos_x   snd_pos_y  snd_spd_x  snd_spd_y  ...   \n",
       "3285333          0.0  622.664856  349.405731  10.591725   3.619794  ...  \\\n",
       "3285339          0.0  633.428345  353.023315  10.528963   3.598826  ...   \n",
       "3285363          0.0  664.833618  363.782410  10.539500   3.604832  ...   \n",
       "3285376          0.0  685.663696  371.063538  10.572788   3.691284  ...   \n",
       "3285439          0.0  769.728699  400.387543  10.537741   3.678823  ...   \n",
       "\n",
       "           rcv_pos_x   rcv_pos_y  rcv_spd_x  rcv_spd_y  rcv_acl_x  rcv_acl_y   \n",
       "3285333  1014.896179  475.989258 -11.595036  -4.170302  -0.504738  -0.181465  \\\n",
       "3285339  1021.180237  477.771057 -11.767840  -4.100206   0.093100   0.032458   \n",
       "3285363  1053.083008  489.540924 -11.862871  -4.535195  -0.542164  -0.206994   \n",
       "3285376  1068.590820  497.487396  -9.566414  -7.190610   0.040861   0.030878   \n",
       "3285439  1084.429321  513.602173   3.100644 -11.130006  -1.206995   4.335574   \n",
       "\n",
       "         rcv_hed_x  rcv_hed_y  delta_time  seq_len  \n",
       "3285333  -0.960219  -0.279247       167.0     2021  \n",
       "3285339  -0.949199  -0.314677       160.0     2021  \n",
       "3285363  -0.973420  -0.229025       160.0     2021  \n",
       "3285376  -0.811376  -0.584524       171.0     2021  \n",
       "3285439   0.169778  -0.985482       168.0     2021  \n",
       "\n",
       "[5 rows x 24 columns]"
      ]
     },
     "execution_count": 51,
     "metadata": {},
     "output_type": "execute_result"
    }
   ],
   "source": [
    "V[(V.sender == 124899) & (V.bsm_rcv_time > 100)]"
   ]
  },
  {
   "cell_type": "code",
   "execution_count": 3,
   "id": "bfe7f9a9-1b8e-4252-819c-3eef38383038",
   "metadata": {
    "tags": []
   },
   "outputs": [],
   "source": [
    "f = h5py.File('out_veremi/veremi-mixall-10.h5')"
   ]
  },
  {
   "cell_type": "code",
   "execution_count": 4,
   "id": "412db3cf-b353-44e3-84aa-8f624e785843",
   "metadata": {
    "tags": []
   },
   "outputs": [],
   "source": [
    "test = f['test']\n",
    "labels = f['test_labels']"
   ]
  },
  {
   "cell_type": "code",
   "execution_count": 28,
   "id": "be9f1711-cc2a-44cd-8bcb-98f2a017fa0e",
   "metadata": {
    "tags": []
   },
   "outputs": [
    {
     "data": {
      "text/plain": [
       "array([  0,   0, 269], dtype=uint32)"
      ]
     },
     "execution_count": 28,
     "metadata": {},
     "output_type": "execute_result"
    }
   ],
   "source": [
    "labels[934455]"
   ]
  },
  {
   "cell_type": "code",
   "execution_count": 9,
   "id": "781b5427-6ab1-413f-adaa-82d28c6b5ebb",
   "metadata": {
    "tags": []
   },
   "outputs": [
    {
     "name": "stdout",
     "output_type": "stream",
     "text": [
      "[   3    0 4863]\n"
     ]
    },
    {
     "data": {
      "text/plain": [
       "[<matplotlib.lines.Line2D at 0x7f9d867357b0>]"
      ]
     },
     "execution_count": 9,
     "metadata": {},
     "output_type": "execute_result"
    },
    {
     "data": {
      "image/png": "[encoded data removed]",
      "text/plain": [
       "<Figure size 640x480 with 1 Axes>"
      ]
     },
     "metadata": {},
     "output_type": "display_data"
    }
   ],
   "source": [
    "seq = 0\n",
    "print(labels[-610])\n",
    "plt.plot(test[:, -610, 0])"
   ]
  },
  {
   "cell_type": "code",
   "execution_count": null,
   "id": "fd5faa19-542f-4249-ba5a-1bd038c6ddb2",
   "metadata": {
    "tags": []
   },
   "outputs": [],
   "source": [
    "np.random.seed(seed=42)\n",
    "print(f['train_full_genuine'].shape[1])\n",
    "seqs = np.random.randint(f['train_full_genuine'].shape[1], size=(10,))\n",
    "seqs.sort()\n",
    "\n",
    "print(seqs)\n",
    "f['train_full_genuine'][:, seqs, 16]"
   ]
  },
  {
   "cell_type": "code",
   "execution_count": null,
   "id": "929590d3-5e85-4c02-b35a-04e90a85fa42",
   "metadata": {
    "tags": []
   },
   "outputs": [],
   "source": [
    "all_seqs = np.concatenate((f['train_full_genuine'], f['test']), axis=1)\n",
    "min_a = np.min(all_seqs, axis=(0, 1))\n",
    "max_a = np.max(all_seqs, axis=(0, 1))\n",
    "del all_seqs\n",
    "min_a, max_a"
   ]
  },
  {
   "cell_type": "code",
   "execution_count": null,
   "id": "6e90a38b-636a-45ca-9587-53253ee19b99",
   "metadata": {
    "tags": []
   },
   "outputs": [],
   "source": [
    "train = f['train_full_genuine'][:]\n",
    "test = f['test'][:]\n",
    "\n",
    "train = normalize3(train, min_a, max_a)\n",
    "test = normalize3(test, min_a, max_a)\n",
    "\n",
    "labels = f['test_labels'][:]\n",
    "\n",
    "np.save(os.path.join(folder, 'train.npy'), train)\n",
    "np.save(os.path.join(folder, 'test.npy'), test)\n",
    "np.save(os.path.join(folder, 'labels.npy'), labels)"
   ]
  },
  {
   "cell_type": "code",
   "execution_count": null,
   "id": "d68b258e-b83f-4fc9-a679-bd579f59d3a5",
   "metadata": {
    "tags": []
   },
   "outputs": [],
   "source": [
    "labels = f['test_labels'][:]"
   ]
  },
  {
   "cell_type": "code",
   "execution_count": null,
   "id": "b704baae-8078-49ef-aab7-b2fd3abde2fc",
   "metadata": {
    "tags": []
   },
   "outputs": [],
   "source": [
    "labels[356]"
   ]
  }
 ],
 "metadata": {
  "kernelspec": {
   "display_name": "Python 3 (ipykernel)",
   "language": "python",
   "name": "python3"
  },
  "language_info": {
   "codemirror_mode": {
    "name": "ipython",
    "version": 3
   },
   "file_extension": ".py",
   "mimetype": "text/x-python",
   "name": "python",
   "nbconvert_exporter": "python",
   "pygments_lexer": "ipython3",
   "version": "3.10.10"
  }
 },
 "nbformat": 4,
 "nbformat_minor": 5
}
