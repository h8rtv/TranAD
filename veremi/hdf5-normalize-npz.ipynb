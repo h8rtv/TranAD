{
 "cells": [
  {
   "cell_type": "code",
   "execution_count": 1,
   "id": "1a0f5dcf-7710-4a8c-b5d6-54535e034353",
   "metadata": {
    "tags": []
   },
   "outputs": [],
   "source": [
    "import h5py\n",
    "import numpy as np\n",
    "import os\n",
    "import pandas as pd\n",
    "\n",
    "folder = 'out_veremi'\n",
    "\n",
    "def normalize3(a, min_a, max_a):\n",
    "\treturn (a - min_a) / (max_a - min_a + 0.0001)"
   ]
  },
  {
   "cell_type": "code",
   "execution_count": 2,
   "id": "e647ee03-3442-4b12-be92-b5ffcaeec930",
   "metadata": {
    "tags": []
   },
   "outputs": [
    {
     "data": {
      "text/plain": [
       "(array([-12.844628 , -12.900697 , -26.425985 , -26.076742 ,  -4.499962 ,\n",
       "         -4.4999933,  -1.       ,  -1.       ,  24.185501 ,  24.229301 ,\n",
       "        -18.26656  , -18.768139 ,  -4.4995794,  -4.4999967,  -1.       ,\n",
       "         -1.       ,   0.       ], dtype=float32),\n",
       " array([1.5037155e+03, 1.4999948e+03, 3.9999878e+01, 3.9999886e+01,\n",
       "        4.5037360e+00, 4.5009313e+00, 1.0000000e+00, 1.0000000e+00,\n",
       "        1.3962494e+03, 1.3595773e+03, 1.7753187e+01, 1.7766232e+01,\n",
       "        4.5037360e+00, 4.5009313e+00, 1.0000000e+00, 1.0000000e+00,\n",
       "        1.7800000e+02], dtype=float32))"
      ]
     },
     "execution_count": 2,
     "metadata": {},
     "output_type": "execute_result"
    }
   ],
   "source": [
    "f = h5py.File('out_veremi/veremi.h5')\n",
    "\n",
    "all_seqs = np.concatenate((f['train'], f['test']), axis=1)\n",
    "min_a = np.min(all_seqs, axis=(0, 1))\n",
    "max_a = np.max(all_seqs, axis=(0, 1))\n",
    "del all_seqs\n",
    "min_a, max_a"
   ]
  },
  {
   "cell_type": "code",
   "execution_count": 3,
   "id": "6e90a38b-636a-45ca-9587-53253ee19b99",
   "metadata": {
    "tags": []
   },
   "outputs": [],
   "source": [
    "train = f['train_full_genuine'][:]\n",
    "test = f['test'][:]\n",
    "\n",
    "train = normalize3(train, min_a, max_a)\n",
    "test = normalize3(test, min_a, max_a)\n",
    "\n",
    "labels = f['test_labels'][:]\n",
    "\n",
    "np.save(os.path.join(folder, 'train.npy'), train)\n",
    "np.save(os.path.join(folder, 'test.npy'), test)\n",
    "np.save(os.path.join(folder, 'labels.npy'), labels)"
   ]
  }
 ],
 "metadata": {
  "kernelspec": {
   "display_name": "Python 3 (ipykernel)",
   "language": "python",
   "name": "python3"
  },
  "language_info": {
   "codemirror_mode": {
    "name": "ipython",
    "version": 3
   },
   "file_extension": ".py",
   "mimetype": "text/x-python",
   "name": "python",
   "nbconvert_exporter": "python",
   "pygments_lexer": "ipython3",
   "version": "3.10.10"
  }
 },
 "nbformat": 4,
 "nbformat_minor": 5
}
