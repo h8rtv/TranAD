{
 "cells": [
  {
   "cell_type": "code",
   "execution_count": 1,
   "id": "1a0f5dcf-7710-4a8c-b5d6-54535e034353",
   "metadata": {
    "tags": []
   },
   "outputs": [],
   "source": [
    "import h5py\n",
    "import numpy as np\n",
    "import os\n",
    "import pandas as pd\n",
    "\n",
    "folder = os.path.join('../processed', 'VeReMi')\n",
    "\n",
    "def normalize3(a, min_a = None, max_a = None):\n",
    "\tif min_a is None: min_a, max_a = np.min(a, axis = 0), np.max(a, axis = 0)\n",
    "\treturn (a - min_a) / (max_a - min_a + 0.0001), min_a, max_a"
   ]
  },
  {
   "cell_type": "code",
   "execution_count": 25,
   "id": "e647ee03-3442-4b12-be92-b5ffcaeec930",
   "metadata": {
    "tags": []
   },
   "outputs": [],
   "source": [
    "f = h5py.File('out_veremi/veremi.h5')\n",
    "\n",
    "all_seqs = np.concatenate((f['train'], f['test']), axis=1)\n",
    "min_a = np.min(arr, axis=(0, 1))\n",
    "max_a = np.max(arr, axis=(0, 1))\n",
    "del all_seqs"
   ]
  },
  {
   "cell_type": "code",
   "execution_count": 25,
   "id": "6e90a38b-636a-45ca-9587-53253ee19b99",
   "metadata": {
    "tags": []
   },
   "outputs": [],
   "source": [
    "train = f['train_full_genuine'][:]\n",
    "test = f['test'][:]\n",
    "\n",
    "train, _, _ = normalize3(train, min_a, max_a)\n",
    "test, _, _ = normalize3(test, min_a, max_a)\n",
    "\n",
    "labels = f['test_labels'][:]\n",
    "\n",
    "np.save(os.path.join(folder, 'train.npy'), train)\n",
    "np.save(os.path.join(folder, 'test.npy'), test)\n",
    "np.save(os.path.join(folder, 'labels.npy'), labels)"
   ]
  }
 ],
 "metadata": {
  "kernelspec": {
   "display_name": "Python 3 (ipykernel)",
   "language": "python",
   "name": "python3"
  },
  "language_info": {
   "codemirror_mode": {
    "name": "ipython",
    "version": 3
   },
   "file_extension": ".py",
   "mimetype": "text/x-python",
   "name": "python",
   "nbconvert_exporter": "python",
   "pygments_lexer": "ipython3",
   "version": "3.10.10"
  }
 },
 "nbformat": 4,
 "nbformat_minor": 5
}
