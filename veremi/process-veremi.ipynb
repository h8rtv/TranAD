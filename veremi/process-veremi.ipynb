{
 "cells": [
  {
   "cell_type": "code",
   "execution_count": 1,
   "id": "15db4b2c-22e0-472f-88fd-deb3a983ec9e",
   "metadata": {
    "tags": []
   },
   "outputs": [],
   "source": [
    "import json\n",
    "import math\n",
    "import glob\n",
    "import pandas as pd\n",
    "import numpy as np\n",
    "from tqdm.notebook import tqdm\n",
    "from collections import OrderedDict"
   ]
  },
  {
   "cell_type": "code",
   "execution_count": 2,
   "id": "7556fc31-2fe7-4ed1-b09f-67b543a20415",
   "metadata": {
    "tags": []
   },
   "outputs": [],
   "source": [
    "BSM_SIZE = 101347646 # Already counted\n",
    "N_FEATURES = 22\n",
    "root_dir = '/home/jovyan/work/VeReMi/'\n",
    "filenames = glob.glob(root_dir + '**/traceJSON*.json', recursive=True)"
   ]
  },
  {
   "cell_type": "code",
   "execution_count": 3,
   "id": "f30a2979-6e7d-410d-997e-cab64f9a8daf",
   "metadata": {
    "tags": []
   },
   "outputs": [],
   "source": [
    "# # Count the number of BSM messages in the dataset\n",
    "# line_num = 0\n",
    "# for filepath in tqdm(filenames):\n",
    "#     f = open(filepath)\n",
    "#     for line in f:\n",
    "#         if '\"type\":3' in line:\n",
    "#             line_num += 1\n",
    "    \n",
    "# line_num"
   ]
  },
  {
   "cell_type": "code",
   "execution_count": 4,
   "id": "87bab423-d70e-4430-ab1c-385a3847db11",
   "metadata": {
    "tags": []
   },
   "outputs": [
    {
     "data": {
      "text/plain": [
       "OrderedDict([('ConstSpeed_0709', 0),\n",
       "             ('EventualStop_1416', 1),\n",
       "             ('DataReplaySybil_0709', 2),\n",
       "             ('RandomSpeed_1416', 3),\n",
       "             ('DoSRandomSybil_1416', 4),\n",
       "             ('DoSRandom_0709', 5),\n",
       "             ('DataReplay_0709', 6),\n",
       "             ('DataReplay_1416', 7),\n",
       "             ('RandomPos_1416', 8),\n",
       "             ('ConstSpeed_1416', 9),\n",
       "             ('RandomPos_0709', 10),\n",
       "             ('GridSybil_0709', 11),\n",
       "             ('ConstPos_1416', 12),\n",
       "             ('RandomPosOffset_1416', 13),\n",
       "             ('DoS_0709', 14),\n",
       "             ('ConstPosOffset_1416', 15),\n",
       "             ('Disruptive_1416', 16),\n",
       "             ('DoS_1416', 17),\n",
       "             ('DelayedMessages_0709', 18),\n",
       "             ('ConstSpeedOffset_0709', 19),\n",
       "             ('DoSDisruptiveSybil_0709', 20),\n",
       "             ('ConstPos_0709', 21),\n",
       "             ('MixAll_0024', 22),\n",
       "             ('DoSRandom_1416', 23),\n",
       "             ('RandomSpeed_0709', 24),\n",
       "             ('RandomSpeedOffset_1416', 25),\n",
       "             ('DoSRandomSybil_0709', 26),\n",
       "             ('EventualStop_0709', 27),\n",
       "             ('Disruptive_0709', 28),\n",
       "             ('GridSybil_1416', 29),\n",
       "             ('DoSDisruptive_0709', 30),\n",
       "             ('ConstSpeedOffset_1416', 31),\n",
       "             ('DoSDisruptive_1416', 32),\n",
       "             ('RandomSpeedOffset_0709', 33),\n",
       "             ('DelayedMessages_1416', 34),\n",
       "             ('DataReplaySybil_1416', 35),\n",
       "             ('DoSDisruptiveSybil_1416', 36),\n",
       "             ('ConstPosOffset_0709', 37),\n",
       "             ('RandomPosOffset_0709', 38)])"
      ]
     },
     "execution_count": 4,
     "metadata": {},
     "output_type": "execute_result"
    }
   ],
   "source": [
    "attacker_sender_map = {}\n",
    "\n",
    "datasets = OrderedDict()\n",
    "\n",
    "for filepath in filenames:\n",
    "    path_parts = filepath.split('/')\n",
    "    filename = path_parts[-1]\n",
    "    dataset_name = path_parts[-3]\n",
    "    _, vehicle, _, attacker = filename.split('-')[:4]\n",
    "    attacker_type = int(attacker[1:])\n",
    "    vehicle_id = int(vehicle)\n",
    "    attacker_sender_map[f'{dataset_name}:{vehicle_id}'] = attacker_type\n",
    "    datasets[dataset_name] = 1\n",
    "\n",
    "for i, k in enumerate(datasets.keys()):\n",
    "    datasets[k] = i\n",
    "\n",
    "datasets"
   ]
  },
  {
   "cell_type": "code",
   "execution_count": null,
   "id": "f97a3ea8-37b2-48fa-abcf-477114a49d78",
   "metadata": {
    "tags": []
   },
   "outputs": [
    {
     "data": {
      "application/vnd.jupyter.widget-view+json": {
       "model_id": "fb7881cb00bd45c2acf01145e120e6a2",
       "version_major": 2,
       "version_minor": 0
      },
      "text/plain": [
       "  0%|          | 0/134082 [00:00<?, ?it/s]"
      ]
     },
     "metadata": {},
     "output_type": "display_data"
    }
   ],
   "source": [
    "veremi = np.memmap('veremi.memmap', dtype='float32', mode='w+', shape=(BSM_SIZE, N_FEATURES))\n",
    "# filenames = filenames[:1000]\n",
    "\n",
    "veremi_pos = 0\n",
    "for filepath in (pbar := tqdm(filenames)):\n",
    "    f = open(filepath)\n",
    "    path_parts = filepath.split('/')\n",
    "    filename = path_parts[-1]\n",
    "    dataset_name = path_parts[-3]\n",
    "    receiver = int(filename.split('-')[1])\n",
    "    dataset_id = datasets[dataset_name]\n",
    "    pbar.set_description(\"Vehicle ID {}\".format(receiver))\n",
    "    gps = None\n",
    "    for line in f:\n",
    "        data = json.loads(line)\n",
    "        if data['type'] == 2:\n",
    "            gps = data\n",
    "        elif data['type'] == 3:\n",
    "            attack_type = attacker_sender_map.get(f'{dataset_name}:{data[\"sender\"]}', None)\n",
    "            if attack_type is not None:\n",
    "                out = (\n",
    "                    dataset_id,\n",
    "                    data['messageID'],\n",
    "                    data['rcvTime'],\n",
    "                    receiver,\n",
    "                    data['sender'],\n",
    "                    attack_type,\n",
    "                    data['pos'][0],\n",
    "                    data['pos'][1],\n",
    "                    data['spd'][0],\n",
    "                    data['spd'][1],\n",
    "                    data['acl'][0],\n",
    "                    data['acl'][1],\n",
    "                    data['hed'][0],\n",
    "                    data['hed'][1],\n",
    "                    gps['pos'][0],\n",
    "                    gps['pos'][1],\n",
    "                    gps['spd'][0],\n",
    "                    gps['spd'][1],\n",
    "                    gps['acl'][0],\n",
    "                    gps['acl'][1],\n",
    "                    gps['hed'][0],\n",
    "                    gps['hed'][1],\n",
    "                )\n",
    "                veremi[veremi_pos] = out\n",
    "                veremi_pos += 1"
   ]
  },
  {
   "cell_type": "code",
   "execution_count": null,
   "id": "5cfcb59b-cfa9-4f9a-91e9-8a5a9fa2abc2",
   "metadata": {
    "tags": []
   },
   "outputs": [],
   "source": [
    "veremi = np.memmap('veremi.memmap', dtype='float32', mode='r', shape=(BSM_SIZE, N_FEATURES))\n",
    "\n",
    "df = pd.DataFrame(veremi, columns=[\n",
    "    'dataset_id',\n",
    "    'message_id',\n",
    "    'bsm_rcv_time',\n",
    "    'receiver',\n",
    "    'sender',\n",
    "    'attack_type',\n",
    "    'snd_pos_x',\n",
    "    'snd_pos_y',\n",
    "    'snd_spd_x',\n",
    "    'snd_spd_y',\n",
    "    'snd_acl_x',\n",
    "    'snd_acl_y',\n",
    "    'snd_hed_x',\n",
    "    'snd_hed_y',\n",
    "    'rcv_pos_x',\n",
    "    'rcv_pos_y',\n",
    "    'rcv_spd_x',\n",
    "    'rcv_spd_y',\n",
    "    'rcv_acl_x',\n",
    "    'rcv_acl_y',\n",
    "    'rcv_hed_x',\n",
    "    'rcv_hed_y',\n",
    "])\n",
    "# df.drop(df[df.attack_type.between(1, 9)].index, inplace=True) # drop faults (1 - 9)\n",
    "df.drop(df[df.receiver == df.sender].index, inplace=True) # drop bad registers\n",
    "\n",
    "df.sort_values(['dataset_id', 'sender', 'receiver', 'bsm_rcv_time'], inplace=True)\n",
    "df.reset_index(inplace=True, drop=True)\n",
    "\n",
    "# Calc delta_time based on the diff between the messages\n",
    "def calc_delta(x):\n",
    "    return pd.Series(np.insert(np.diff(x.bsm_rcv_time), 0, 0))\n",
    "\n",
    "grouped = df[['dataset_id',\n",
    "              'sender',\n",
    "              'receiver',\n",
    "              'bsm_rcv_time']].groupby(['dataset_id',\n",
    "                                        'sender',\n",
    "                                        'receiver'])\n",
    "\n",
    "indexes = grouped.size().index\n",
    "\n",
    "for k in tqdm(indexes):\n",
    "    t = grouped.get_group(k)\n",
    "    t = t.sort_values('bsm_rcv_time')\n",
    "    delta_time = calc_delta(t)\n",
    "    df.loc[t.index, 'delta_time'] = delta_time.values\n",
    "\n",
    "df.to_feather('out_veremi/veremi.feather')\n",
    "df.head(50)"
   ]
  },
  {
   "cell_type": "code",
   "execution_count": null,
   "id": "3ac7bd93-b12b-44f1-887f-1972f7874f44",
   "metadata": {
    "tags": []
   },
   "outputs": [],
   "source": [
    "df = pd.read_feather('out_veremi/veremi.feather')\n",
    "\n",
    "random_state = 42\n",
    "\n",
    "# group by sender and receiver\n",
    "# TODO: group only by sender\n",
    "grouped = df.groupby(['dataset_id', 'sender', 'receiver', 'attack_type'])\n",
    "interactions = grouped.size().rename('seq_len').reset_index()\n",
    "\n",
    "train = interactions.sample(frac=0.8, random_state=random_state)\n",
    "test = interactions.drop(train.index)\n",
    "\n",
    "train_full_genuine = train[train.attack_type == 0]\n",
    "\n",
    "sample_size_5_pctg = round(len(train_full_genuine) / 0.95 - len(train_full_genuine))\n",
    "train_5_pctg_atk = train[train.attack_type != 0].sample(sample_size_5_pctg, random_state=random_state)\n",
    "train_95_genuine = pd.concat([train_full_genuine, train_5_pctg_atk]).sample(frac=1, random_state=random_state) # concat and shuffle\n",
    "\n",
    "sample_size_10_pctg = round(len(train_full_genuine) / 0.9 - len(train_full_genuine))\n",
    "train_10_pctg_atk = train[train.attack_type != 0].sample(sample_size_10_pctg, random_state=random_state)\n",
    "train_90_genuine = pd.concat([train_full_genuine, train_10_pctg_atk]).sample(frac=1, random_state=random_state) # concat and shuffle\n",
    "\n",
    "del train_10_pctg_atk\n",
    "del train_5_pctg_atk\n",
    "del interactions\n",
    "del grouped\n",
    "\n",
    "print(f'Train: {len(train)}, Train 0%: {len(train_full_genuine)}, Train 5%: {len(train_95_genuine)}, Train 10%: {len(train_90_genuine)}, Test: {len(test)}')"
   ]
  },
  {
   "cell_type": "code",
   "execution_count": null,
   "id": "926f6494-4805-4fc5-8e6e-ca405f0b6e0b",
   "metadata": {
    "tags": []
   },
   "outputs": [],
   "source": [
    "cols = ['dataset_id', 'sender', 'receiver', 'attack_type']\n",
    "\n",
    "test_df = df.join(test.set_index(cols), how='inner', on=cols)\n",
    "test_df.reset_index(drop=True).to_feather('out_veremi/test.feather')\n",
    "del test_df\n",
    "del test\n",
    "\n",
    "train_df = df.join(train.set_index(cols), how='inner', on=cols)\n",
    "train_df.reset_index(drop=True).to_feather('out_veremi/train.feather')\n",
    "del train_df\n",
    "del train\n",
    "\n",
    "train_full_genuine_df = df.join(train_full_genuine.set_index(cols), how='inner', on=cols)\n",
    "train_full_genuine_df.reset_index(drop=True).to_feather('out_veremi/train_full_genuine.feather')\n",
    "del train_full_genuine_df\n",
    "del train_full_genuine\n",
    "\n",
    "train_95_genuine_df = df.join(train_95_genuine.set_index(cols), how='inner', on=cols)\n",
    "train_95_genuine_df.reset_index(drop=True).to_feather('out_veremi/train_95_genuine.feather')\n",
    "del train_95_genuine_df\n",
    "del train_95_genuine\n",
    "\n",
    "train_90_genuine_df = df.join(train_90_genuine.set_index(cols), how='inner', on=cols)\n",
    "train_90_genuine_df.reset_index(drop=True).to_feather('out_veremi/train_90_genuine.feather')\n",
    "del train_90_genuine_df\n",
    "del train_90_genuine"
   ]
  }
 ],
 "metadata": {
  "kernelspec": {
   "display_name": "Python 3 (ipykernel)",
   "language": "python",
   "name": "python3"
  },
  "language_info": {
   "codemirror_mode": {
    "name": "ipython",
    "version": 3
   },
   "file_extension": ".py",
   "mimetype": "text/x-python",
   "name": "python",
   "nbconvert_exporter": "python",
   "pygments_lexer": "ipython3",
   "version": "3.10.10"
  }
 },
 "nbformat": 4,
 "nbformat_minor": 5
}
