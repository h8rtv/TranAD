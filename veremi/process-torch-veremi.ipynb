{
 "cells": [
  {
   "cell_type": "code",
   "execution_count": 1,
   "id": "0ff68826-8805-4b04-8a6f-a6ab839d1259",
   "metadata": {
    "tags": []
   },
   "outputs": [],
   "source": [
    "import pandas as pd\n",
    "import numpy as np\n",
    "import torch\n",
    "import torch.nn as nn\n",
    "from tqdm.notebook import tqdm\n",
    "import gc"
   ]
  },
  {
   "cell_type": "code",
   "execution_count": null,
   "id": "3af9d5c5-68db-4b64-86b5-dea03a7d81fd",
   "metadata": {
    "tags": []
   },
   "outputs": [
    {
     "data": {
      "application/vnd.jupyter.widget-view+json": {
       "model_id": "c7707482331d4be5a3ee32f92d496173",
       "version_major": 2,
       "version_minor": 0
      },
      "text/plain": [
       "  0%|          | 0/626366 [00:00<?, ?it/s]"
      ]
     },
     "metadata": {},
     "output_type": "display_data"
    }
   ],
   "source": [
    "files = [\n",
    "    # ('test', True),\n",
    "    ('train', False),\n",
    "    ('train_full_genuine', False),\n",
    "    ('train_95_genuine', False),\n",
    "    ('train_90_genuine', False),\n",
    "]\n",
    "\n",
    "\n",
    "fields = [\n",
    "    'snd_pos_x',\n",
    "    'snd_pos_y',\n",
    "    'snd_spd_x',\n",
    "    'snd_spd_y',\n",
    "    'snd_acl_x',\n",
    "    'snd_acl_y',\n",
    "    'snd_hed_x',\n",
    "    'snd_hed_y',\n",
    "    'rcv_pos_x',\n",
    "    'rcv_pos_y',\n",
    "    'rcv_spd_x',\n",
    "    'rcv_spd_y',\n",
    "    'rcv_acl_x',\n",
    "    'rcv_acl_y',\n",
    "    'rcv_hed_x',\n",
    "    'rcv_hed_y',\n",
    "    'delta_time',\n",
    "]\n",
    "\n",
    "max_window_size = 100\n",
    "\n",
    "for file, save_labels in files:\n",
    "    sequences = []\n",
    "    if save_labels:\n",
    "        labels = []\n",
    "    df = pd.read_feather(f'out_veremi/{file}.feather')\n",
    "    grouped = df.groupby(['dataset_id', 'sender', 'receiver', 'attack_type'])\n",
    "    sorted_order = grouped.size().sort_values(ascending=False).index\n",
    "    \n",
    "    for k in tqdm(sorted_order):\n",
    "        t = grouped.get_group(k)\n",
    "        attack_type = k[3]\n",
    "        \n",
    "        array = t[fields].to_numpy()\n",
    "\n",
    "        num_windows = len(t) // max_window_size\n",
    "        final_window_size = len(t) % max_window_size\n",
    "        for i in range(num_windows):\n",
    "            window = array[i * max_window_size : (i + 1) * max_window_size]\n",
    "            sequences.append(torch.tensor(window))\n",
    "            if save_labels:\n",
    "                labels.append(attack_type)\n",
    "\n",
    "        if final_window_size > 0:\n",
    "            final_window = array[-final_window_size:]\n",
    "            sequences.append(torch.tensor(final_window))\n",
    "            if save_labels:\n",
    "                labels.append(attack_type)\n",
    "        del t\n",
    "    \n",
    "    del sorted_order\n",
    "    del df\n",
    "    \n",
    "    collected = gc.collect()\n",
    "    \n",
    "    if save_labels:\n",
    "        labels = sorted(enumerate(labels), key=lambda x: sequences[x[0]].shape[0], reverse=True)\n",
    "        labels_tensor = torch.tensor(labels)\n",
    "        torch.save(labels_tensor, f'out_veremi/{file}-packed-labels-arst.pt')\n",
    "        del labels_tensor\n",
    "        del labels\n",
    "        \n",
    "    sequences.sort(key=lambda x: x.shape[0], reverse=True)\n",
    "    packed = nn.utils.rnn.pack_sequence(sequences)\n",
    "    torch.save(packed, f'out_veremi/{file}-packed-arst.pt')\n",
    "    \n",
    "    del packed\n",
    "    del sequences"
   ]
  },
  {
   "cell_type": "code",
   "execution_count": null,
   "id": "3ed10429-bd6b-4073-8923-49e6cea82b0a",
   "metadata": {},
   "outputs": [],
   "source": []
  }
 ],
 "metadata": {
  "kernelspec": {
   "display_name": "Python 3 (ipykernel)",
   "language": "python",
   "name": "python3"
  },
  "language_info": {
   "codemirror_mode": {
    "name": "ipython",
    "version": 3
   },
   "file_extension": ".py",
   "mimetype": "text/x-python",
   "name": "python",
   "nbconvert_exporter": "python",
   "pygments_lexer": "ipython3",
   "version": "3.10.10"
  }
 },
 "nbformat": 4,
 "nbformat_minor": 5
}
